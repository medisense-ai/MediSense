{
 "cells": [
  {
   "cell_type": "code",
   "execution_count": null,
   "metadata": {},
   "outputs": [
    {
     "ename": "",
     "evalue": "",
     "output_type": "error",
     "traceback": [
      "\u001b[1;31mFailed to start the Kernel. \n",
      "\u001b[1;31mUnable to start Kernel 'ai4health (Python 3.11.11)' due to a timeout waiting for the ports to get used. \n",
      "\u001b[1;31mView Jupyter <a href='command:jupyter.viewOutput'>log</a> for further details."
     ]
    }
   ],
   "source": [
    "from sys.path import append as pathappend\n",
    "from os import path as ospath\n",
    "\n",
    "# Add the directory two levels up to the Python path\n",
    "pathappend(ospath.abspath(ospath.join(ospath.dirname(__file__), '../..')))\n",
    "\n",
    "from torch import device\n",
    "from torch.cuda import is_available\n",
    "from torch.utils.data import DataLoader\n",
    "from torchvision import transforms\n",
    "\n",
    "from common.local.dataset import MammographyDataset\n",
    "from common.local.logger import Logger\n",
    "from model_2 import MammoClassificationResNet50\n",
    "from ensemble_2 import WeightedEnsembleModel\n"
   ]
  },
  {
   "cell_type": "code",
   "execution_count": null,
   "metadata": {},
   "outputs": [
    {
     "ename": "",
     "evalue": "",
     "output_type": "error",
     "traceback": [
      "\u001b[1;31mFailed to start the Kernel. \n",
      "\u001b[1;31mUnable to start Kernel 'ai4health (Python 3.11.11)' due to a timeout waiting for the ports to get used. \n",
      "\u001b[1;31mView Jupyter <a href='command:jupyter.viewOutput'>log</a> for further details."
     ]
    }
   ],
   "source": [
    "\n",
    "BATCH_SIZE = 32\n",
    "WORKERS = 4\n",
    "\n",
    "log = Logger(log_dir='/home/team11/dev/MediSense/classification/temp', log_file='ensemble2.log')\n",
    "device = device(\"cuda:0\" if is_available() else \"cpu\")\n",
    "log.info(f\"Eval on device: {device}\")\n",
    "\n"
   ]
  },
  {
   "cell_type": "code",
   "execution_count": null,
   "metadata": {},
   "outputs": [
    {
     "ename": "",
     "evalue": "",
     "output_type": "error",
     "traceback": [
      "\u001b[1;31mFailed to start the Kernel. \n",
      "\u001b[1;31mUnable to start Kernel 'ai4health (Python 3.11.11)' due to a timeout waiting for the ports to get used. \n",
      "\u001b[1;31mView Jupyter <a href='command:jupyter.viewOutput'>log</a> for further details."
     ]
    }
   ],
   "source": [
    "\n",
    "transform = transforms.Compose(\n",
    "    [\n",
    "        transforms.Resize((224, 224)),\n",
    "        transforms.ToTensor(),\n",
    "    ]\n",
    ")\n",
    "\n",
    "ensembles = {}\n",
    "dl_val = {}\n",
    "\n",
    "for laterality in [\"L\", \"R\"]:\n",
    "    models = []\n",
    "    dataloaders_val = []\n",
    "\n",
    "    for view in [\"CC\", \"MLO\"]:\n",
    "\n",
    "        log.info(f\"Loading data for {laterality} {view}\")\n",
    "\n",
    "        ds = MammographyDataset(\n",
    "            csv_file=\"/home/team11/dev/MediSense/classification/temp/val_labels.csv\",\n",
    "            img_dir=\"/home/data/train/images\",\n",
    "            laterality=laterality,\n",
    "            view=view,\n",
    "            transform=transform,\n",
    "        )\n",
    "        dataloader = DataLoader(ds, batch_size=BATCH_SIZE, num_workers=WORKERS, shuffle=False)\n",
    "        dataloaders_val.append(dataloader)\n",
    "\n",
    "        model = MammoClassificationResNet50(logger=log)\n",
    "\n",
    "        log.info(f\"Loading model for {laterality} {view}\")\n",
    "        model.load_model(f\"/home/team11/dev/MediSense/classification/t1/model_{laterality}_{view}.pth\")\n",
    "        models.append(model)\n",
    "\n",
    "\n",
    "    log.info(\"Evaluating ensemble on validation set\")\n",
    "        \n",
    "    ensemble = WeightedEnsembleModel(models)\n",
    "    # ensemble.load_models(laterality=laterality, views=[\"CC\", \"MLO\"], path=\"/home/team11/dev/MediSense/classification/t1\", dataloaders=dataloaders_val)\n",
    "    \n",
    "    log.info(f'Model count: {len(ensemble.models_list)}')\n",
    "    log.info(f'Input count: {len(dataloaders_val)}')\n",
    "\n",
    "    ensembles[laterality] = ensemble\n",
    "    dl_val[laterality] = dataloaders_val\n"
   ]
  },
  {
   "cell_type": "code",
   "execution_count": null,
   "metadata": {},
   "outputs": [
    {
     "ename": "",
     "evalue": "",
     "output_type": "error",
     "traceback": [
      "\u001b[1;31mFailed to start the Kernel. \n",
      "\u001b[1;31mUnable to start Kernel 'ai4health (Python 3.11.11)' due to a timeout waiting for the ports to get used. \n",
      "\u001b[1;31mView Jupyter <a href='command:jupyter.viewOutput'>log</a> for further details."
     ]
    }
   ],
   "source": [
    "\n",
    "\n",
    "for laterality in [\"L\", \"R\"]:\n",
    "    log.info(ensembles[lateralitz].evaluate_ensemble(dl_val[laterality]))\n",
    "    log.info(\"Done\")\n",
    "\n",
    "    \n",
    "\n",
    "\n",
    "\n",
    "    "
   ]
  }
 ],
 "metadata": {
  "kernelspec": {
   "display_name": "ai4health",
   "language": "python",
   "name": "python3"
  },
  "language_info": {
   "name": "python",
   "version": "3.11.11"
  }
 },
 "nbformat": 4,
 "nbformat_minor": 2
}
