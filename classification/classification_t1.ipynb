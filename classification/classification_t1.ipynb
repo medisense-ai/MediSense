{
 "cells": [
  {
   "cell_type": "code",
   "execution_count": null,
   "metadata": {},
   "outputs": [],
   "source": [
    "import torch\n",
    "import torch.nn as nn\n",
    "import torch.optim as optim\n",
    "from torch.utils.data import DataLoader, Dataset\n",
    "from torchvision import transforms, models\n",
    "from PIL import Image\n",
    "import pandas as pd\n",
    "import os\n",
    "\n",
    "class MammographyDataset(Dataset):\n",
    "\n",
    "\tdef __init__(self, csv_file, img_dir, laterality, view, transform=None):\n",
    "\t\tself.data = pd.read_csv(csv_file)\n",
    "\t\tself.img_dir = img_dir\n",
    "\t\tself.laterality = laterality\n",
    "\t\tself.view = view\n",
    "\t\tself.transform = transform\n",
    "\n",
    "\tdef __len__(self):\n",
    "\t\treturn len(self.data[(self.data[\"laterality\"] == self.laterality) & (self.data[\"view\"] == self.view)])\n",
    "\t\n",
    "\n",
    "\tdef __getitem__(self, idx):\n",
    "\t\trow = self.data[(self.data[\"case_id\"] == idx) & (self.data[\"laterality\"] == self.laterality) & (self.data[\"view\"] == self.view)]\n",
    "\t\tlabel = row[\"category\"].values[0]\n",
    "\t\timg_file = f'{row[\"image_id\"].values[0]}.jpg'\n",
    "\t\timg_path = os.path.join(self.img_dir, img_file)\n",
    "\t\timage = Image.open(img_path).convert(\"RGB\")\n",
    "        \n",
    "\t\tif self.transform:\n",
    "\t\t\timage = self.transform(image)\n",
    "        \n",
    "\t\treturn image, label\n"
   ]
  },
  {
   "cell_type": "code",
   "execution_count": null,
   "metadata": {},
   "outputs": [
    {
     "name": "stdout",
     "output_type": "stream",
     "text": [
      "0\n",
      "   case_id  patient_id  study_id image_id laterality view  device_id  \\\n",
      "3        0           0         1  0_R_MLO          R  MLO          7   \n",
      "\n",
      "   breast_birads  birads  category  \n",
      "3              3       0         0  \n"
     ]
    },
    {
     "data": {
      "text/plain": [
       "(tensor([[[0.0000, 0.0000, 0.0000,  ..., 0.2275, 0.2353, 0.2275],\n",
       "          [0.0000, 0.0000, 0.0000,  ..., 0.6431, 0.6353, 0.5725],\n",
       "          [0.0000, 0.0000, 0.0000,  ..., 0.7569, 0.7608, 0.7137],\n",
       "          ...,\n",
       "          [0.0000, 0.0000, 0.0000,  ..., 0.3098, 0.3059, 0.3255],\n",
       "          [0.0000, 0.0000, 0.0000,  ..., 0.2471, 0.2510, 0.2471],\n",
       "          [0.0000, 0.0000, 0.0000,  ..., 0.0745, 0.0902, 0.0980]],\n",
       " \n",
       "         [[0.0000, 0.0000, 0.0000,  ..., 0.2275, 0.2353, 0.2275],\n",
       "          [0.0000, 0.0000, 0.0000,  ..., 0.6431, 0.6353, 0.5725],\n",
       "          [0.0000, 0.0000, 0.0000,  ..., 0.7569, 0.7608, 0.7137],\n",
       "          ...,\n",
       "          [0.0000, 0.0000, 0.0000,  ..., 0.3098, 0.3059, 0.3255],\n",
       "          [0.0000, 0.0000, 0.0000,  ..., 0.2471, 0.2510, 0.2471],\n",
       "          [0.0000, 0.0000, 0.0000,  ..., 0.0745, 0.0902, 0.0980]],\n",
       " \n",
       "         [[0.0000, 0.0000, 0.0000,  ..., 0.2275, 0.2353, 0.2275],\n",
       "          [0.0000, 0.0000, 0.0000,  ..., 0.6431, 0.6353, 0.5725],\n",
       "          [0.0000, 0.0000, 0.0000,  ..., 0.7569, 0.7608, 0.7137],\n",
       "          ...,\n",
       "          [0.0000, 0.0000, 0.0000,  ..., 0.3098, 0.3059, 0.3255],\n",
       "          [0.0000, 0.0000, 0.0000,  ..., 0.2471, 0.2510, 0.2471],\n",
       "          [0.0000, 0.0000, 0.0000,  ..., 0.0745, 0.0902, 0.0980]]]),\n",
       " 0)"
      ]
     },
     "execution_count": 29,
     "metadata": {},
     "output_type": "execute_result"
    }
   ],
   "source": [
    "transform = transforms.Compose([\n",
    "    transforms.Resize((224, 224)),\n",
    "    transforms.ToTensor(),\n",
    "])\n",
    "ds = MammographyDataset(\n",
    "    csv_file='classification_tmp.csv', \n",
    "    img_dir=\"imgs\", \n",
    "    laterality=\"R\", \n",
    "    view=\"MLO\", \n",
    "    transform=transform\n",
    ")\n",
    "\n",
    "dataloader = DataLoader(ds, batch_size=1, shuffle=True)\n",
    "\n",
    "model = models.resnet50(pretrained=True)\n",
    "num_ftrs = model.fc.in_features\n",
    "model.fc = nn.Linear(num_ftrs, 4)\n",
    "\n",
    "criterion = nn.CrossEntropyLoss()\n",
    "optimizer = optim.Adam(model.parameters(), lr=0.001)\n",
    "\n",
    "num_epochs = 10\n",
    "for epoch in range(num_epochs):\n",
    "\tmodel.train()\n",
    "\trunning_loss = 0.0\n",
    "\tfor inputs, labels in dataloader:\n",
    "\t\toptimizer.zero_grad()\n",
    "\t\toutputs = model(inputs)\n",
    "\t\tloss = criterion(outputs, labels)\n",
    "\t\tloss.backward()\n",
    "\t\toptimizer.step()\n",
    "\t\trunning_loss += loss.item()\n",
    "\n",
    "\tprint(f'Epoch [{epoch+1}/{num_epochs}], Loss: {running_loss/len(dataloader)}')\n",
    "\n",
    "print('Training complete')"
   ]
  },
  {
   "cell_type": "code",
   "execution_count": 31,
   "metadata": {},
   "outputs": [
    {
     "name": "stdout",
     "output_type": "stream",
     "text": [
      "1\n",
      "   case_id  patient_id  study_id image_id laterality view  device_id  \\\n",
      "7        1           1         1  1_R_MLO          R  MLO          3   \n",
      "\n",
      "   breast_birads  birads  category  \n",
      "7              1       1         1  \n",
      "0\n",
      "   case_id  patient_id  study_id image_id laterality view  device_id  \\\n",
      "3        0           0         1  0_R_MLO          R  MLO          7   \n",
      "\n",
      "   breast_birads  birads  category  \n",
      "3              3       0         0  \n",
      "Accuracy of the model on the training images: 50.0%\n"
     ]
    }
   ],
   "source": [
    "model.eval()  # Set the model to evaluation mode\n",
    "\n",
    "correct = 0\n",
    "total = 0\n",
    "\n",
    "with torch.no_grad():  # Disable gradient calculation\n",
    "    for inputs, labels in dataloader:\n",
    "        outputs = model(inputs)\n",
    "        _, predicted = torch.max(outputs.data, 1)\n",
    "        total += labels.size(0)\n",
    "        correct += (predicted == labels).sum().item()\n",
    "\n",
    "accuracy = 100 * correct / total\n",
    "print(f'Accuracy of the model on the training images: {accuracy}%')"
   ]
  }
 ],
 "metadata": {
  "kernelspec": {
   "display_name": "deepnn",
   "language": "python",
   "name": "python3"
  },
  "language_info": {
   "codemirror_mode": {
    "name": "ipython",
    "version": 3
   },
   "file_extension": ".py",
   "mimetype": "text/x-python",
   "name": "python",
   "nbconvert_exporter": "python",
   "pygments_lexer": "ipython3",
   "version": "3.9.13"
  }
 },
 "nbformat": 4,
 "nbformat_minor": 2
}
